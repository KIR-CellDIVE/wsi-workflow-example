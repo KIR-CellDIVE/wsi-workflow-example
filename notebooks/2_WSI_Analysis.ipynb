{
 "cells": [
  {
   "cell_type": "markdown",
   "id": "3b0b6f29-46b7-4b45-b19d-965a66bb0729",
   "metadata": {},
   "source": [
    "# **Whole slide analysis of Cell DIVE multiplex images**"
   ]
  },
  {
   "cell_type": "markdown",
   "id": "e24fc973-19fc-428f-832e-592424dd12b8",
   "metadata": {},
   "source": [
    "## <span style=\"color: red\"> THIS NOTEBOOK ACTS AS A TEMPLATE AND WILL NOT SAVE CHANGES UNLESS YOU SAVE A COPY TO YOUR OWN FOLDER. USE `FILE->DOWNLOAD` IN THE TASKBAR AT THE VERY TOP OF THIS PAGE TO SAVE A COPY OF THE NOTEBOOK. THEN, USING THE SIDEBAR TO THE RIGHT OPEN THE NEW COPY OF THE NOTEBOOK BEFORE YOU GET STARTED (RUNNING ON WSL C: AND D: DRIVES SHOULD BE LOCATED UNDER `drives/c` AND `drives/d`, RESPECTIVELY) </span> "
   ]
  },
  {
   "cell_type": "markdown",
   "id": "c7d22835-bbaf-4b00-a42e-fa105da17c68",
   "metadata": {},
   "source": [
    "Run through this notebook **step-by-step** and adjust the code if necessary at any point in the process. The explanation and comments througout the notebook will help guide you through the process. There will also be pointers as to modifications you might want to consider."
   ]
  },
  {
   "cell_type": "markdown",
   "id": "f8217cfa-97c4-4417-91e6-eb7151d2829e",
   "metadata": {},
   "source": [
    "## Dependencies\n",
    "We load all the necessary libraries used for the processing, analysis, clustering and visualisation in this notebook."
   ]
  },
  {
   "cell_type": "code",
   "execution_count": null,
   "id": "153a30ec-8e10-4eb9-aca3-6bb9cfa6493c",
   "metadata": {
    "vscode": {
     "languageId": "r"
    }
   },
   "outputs": [],
   "source": [
    "library(geometry)\n",
    "library(uwot)\n",
    "library(celldiveUtils)\n",
    "library(stringr)\n",
    "library(patchwork)"
   ]
  },
  {
   "cell_type": "markdown",
   "id": "bf75d95c-c345-43cc-a5b0-b86ac53d0125",
   "metadata": {},
   "source": [
    "## Reproducibility"
   ]
  },
  {
   "cell_type": "markdown",
   "id": "908f5c46-373e-46a3-97d3-667601943331",
   "metadata": {},
   "source": [
    "You can set a fixed seed to make the results of this notebook reproducible. Set `seed` to an integer value to fix the seed or to `NULL` for a random seed."
   ]
  },
  {
   "cell_type": "code",
   "execution_count": null,
   "id": "fffaf27c-4770-4174-8a9f-2ec2e2f3fa43",
   "metadata": {},
   "outputs": [],
   "source": [
    "seed = NULL"
   ]
  },
  {
   "cell_type": "markdown",
   "id": "4a7fedf8-dc3c-45ec-9f9e-f8ed5e70ae3b",
   "metadata": {},
   "source": [
    "## 1. Define data location and setup directory structure"
   ]
  },
  {
   "cell_type": "markdown",
   "id": "cff16acd-620a-43b0-aec2-7852231bb6e3",
   "metadata": {},
   "source": [
    "### 1.1 Set data directory"
   ]
  },
  {
   "cell_type": "markdown",
   "id": "93be8d01-3b28-42df-9d53-cc3b0a8d048d",
   "metadata": {},
   "source": [
    "The first step is to set the *data/base directory* `base_dir` that contains a folder called `segmentation` with the segmentation and quantification results. The content of the *base* directory would look something like the example below. We will also save the results and all the pipeline outputs in this folder as well."
   ]
  },
  {
   "cell_type": "markdown",
   "id": "5841c4a3-0648-4df1-a54c-09e58aa78fd5",
   "metadata": {},
   "source": [
    "```\n",
    "├── ome_tiff\n",
    "├── image_data\n",
    "└── segmentation\n",
    "    ├── cell_table\n",
    "    ├── cell_table_no_qc\n",
    "    ├── deepcell_input\n",
    "    ├── deepcell_output\n",
    "    ├── deepcell_output_no_qc\n",
    "    ├── deepcell_visualization\n",
    "    └── deepcell_visualization_no_qc\n",
    "    \n",
    "```"
   ]
  },
  {
   "cell_type": "markdown",
   "id": "b79be144-2a0d-4f56-ad3e-c9d76a6341d8",
   "metadata": {
    "execution": {
     "iopub.execute_input": "2024-11-01T16:52:08.386740Z",
     "iopub.status.busy": "2024-11-01T16:52:08.386167Z",
     "iopub.status.idle": "2024-11-01T16:52:08.393373Z",
     "shell.execute_reply": "2024-11-01T16:52:08.392655Z"
    }
   },
   "source": [
    "In order to define the *data/base directory* we have two options:\n",
    "* set `set_base_dir_method=\"Manual\"` and manually define the data/base directory below via `data_dir=`\n",
    "* set `set_base_dir_method=\"Relative\"` which assume that this notebook is saved in a `notebook` folder alongside the `ome_tiff` in the same parent directory\n",
    "\n",
    "The last option `Relative` ensures greatest reproducibility and transferability as the notebook is saved alongside the data and all path are defined relative to it."
   ]
  },
  {
   "cell_type": "markdown",
   "id": "2d9ef447-8260-4113-b3fd-87cf9f6c06b3",
   "metadata": {},
   "source": [
    "**NOTE: In `WSL` the `C:` drive, `D:` drive, etc are mounted and located at `/mnt/c`, `/mnt/d`, etc, respectively.**"
   ]
  },
  {
   "cell_type": "code",
   "execution_count": null,
   "id": "49eaeb72-89b8-417d-b6a7-2a4c8d24398c",
   "metadata": {
    "vscode": {
     "languageId": "r"
    }
   },
   "outputs": [],
   "source": [
    "set_base_dir_method <- \"Relative\""
   ]
  },
  {
   "cell_type": "code",
   "execution_count": null,
   "id": "8fca66b7-471f-4683-9d62-766b50cadf7d",
   "metadata": {
    "vscode": {
     "languageId": "r"
    }
   },
   "outputs": [],
   "source": [
    "if (set_base_dir_method == \"Relative\") {\n",
    "    notebook_dir <- getwd()\n",
    "    data_dir <- fs::path_dir(notebook_dir)\n",
    "} else if (set_base_dir_method == \"Manual\") {\n",
    "    data_dir = \"/path/to/data/directory\"\n",
    "}"
   ]
  },
  {
   "cell_type": "code",
   "execution_count": null,
   "id": "f7204e31-f28e-4718-b71f-af8f353a823d",
   "metadata": {
    "vscode": {
     "languageId": "r"
    }
   },
   "outputs": [],
   "source": [
    "# set the base directory\n",
    "base_dir = data_dir"
   ]
  },
  {
   "cell_type": "markdown",
   "id": "273c811b-5dd5-4078-8c86-6644ec38a650",
   "metadata": {},
   "source": [
    "### 1.2 Setup intermediate and results paths\n",
    "\n",
    "Next, we create results directories to save the plots, etc. such that we have the following folder structure in the `base directory`:"
   ]
  },
  {
   "cell_type": "markdown",
   "id": "34a35fc2-f055-4b0e-8904-4e22b94a9337",
   "metadata": {},
   "source": [
    "```\n",
    "├── ome_tiff\n",
    "├── image_data\n",
    "├── segmentation\n",
    "└── analysis\n",
    "    \n",
    "```"
   ]
  },
  {
   "cell_type": "markdown",
   "id": "435c528f-e19b-45f5-8106-5cee8ae4387d",
   "metadata": {},
   "source": [
    "Here, we set all the directory names to be created."
   ]
  },
  {
   "cell_type": "code",
   "execution_count": null,
   "id": "24ceb7fe-bd86-491b-8513-8d430de3ba9c",
   "metadata": {
    "vscode": {
     "languageId": "r"
    }
   },
   "outputs": [],
   "source": [
    "results_dir = fs::path_join(c(base_dir, \"analysis\"))\n",
    "cell_table_dir = fs::path_join(c(base_dir, \"segmentation\",\"cell_table_no_qc\"))\n",
    "cell_table_dir_qc = fs::path_join(c(base_dir, \"segmentation\", \"cell_table\"))"
   ]
  },
  {
   "cell_type": "markdown",
   "id": "25733224-1daa-4d03-8bd4-6483f6364ef2",
   "metadata": {},
   "source": [
    "Then, we check if the directories exist and if not create them."
   ]
  },
  {
   "cell_type": "code",
   "execution_count": null,
   "id": "7c3b3eb1-45ea-4c02-8010-dae96becdb7a",
   "metadata": {
    "vscode": {
     "languageId": "r"
    }
   },
   "outputs": [],
   "source": [
    "for (directory in c(results_dir)) {\n",
    "    dir.create(directory,showWarnings = FALSE)\n",
    "}"
   ]
  },
  {
   "cell_type": "markdown",
   "id": "6129b844-36eb-4205-aad2-e7f62b4713fc",
   "metadata": {
    "execution": {
     "iopub.execute_input": "2024-11-01T16:29:58.593526Z",
     "iopub.status.busy": "2024-11-01T16:29:58.575487Z",
     "iopub.status.idle": "2024-11-01T16:29:58.599028Z",
     "shell.execute_reply": "2024-11-01T16:29:58.598233Z"
    },
    "vscode": {
     "languageId": "r"
    }
   },
   "source": [
    "## 2. Loading segmented and quantified marker expression data table"
   ]
  },
  {
   "cell_type": "markdown",
   "id": "c92dba41-3c6e-4563-bf83-b2402b04e1a3",
   "metadata": {},
   "source": [
    "First, we need to define if we want to use the size normalized (\"normalized\") or arcsinh transformed data (\"transformed\") for the analysis. Please, set the `input_data` variable below accordingly."
   ]
  },
  {
   "cell_type": "code",
   "execution_count": null,
   "id": "110accba-6ef4-4f53-82ad-ffce2e4b3b2d",
   "metadata": {
    "vscode": {
     "languageId": "r"
    }
   },
   "outputs": [],
   "source": [
    "input_data = \"normalized\" #or \"transformed\""
   ]
  },
  {
   "cell_type": "code",
   "execution_count": null,
   "id": "3c880864-9211-447e-907f-71fd2c1f3dda",
   "metadata": {
    "vscode": {
     "languageId": "r"
    }
   },
   "outputs": [],
   "source": [
    "if (input_data == \"normalized\") {\n",
    "    file_pattern = \".*_normalized_\"\n",
    "} else if (input_data == \"transformed\") {\n",
    "    file_pattern = \".*_arcsinh_transformed_\"\n",
    "}"
   ]
  },
  {
   "cell_type": "code",
   "execution_count": null,
   "id": "db62976e-1dc0-4a56-90c7-3ac06d8f854e",
   "metadata": {
    "vscode": {
     "languageId": "r"
    }
   },
   "outputs": [],
   "source": [
    "cell_table_files = list.files(cell_table_dir_qc, pattern = file_pattern)\n",
    "tissue_names  = stringr::str_match(cell_table_files,str_glue(\"cell_table_{file_pattern}(.*?).csv\"))[,2]\n",
    "cell_tables = setNames(cell_table_files, tissue_names)\n",
    "\n",
    "for(j in 1:length(cell_tables)){\n",
    "    print(cell_tables[j])\n",
    "}"
   ]
  },
  {
   "cell_type": "markdown",
   "id": "c5087604-945e-4997-b387-7f184e6cb519",
   "metadata": {},
   "source": [
    "Here, we can filter out any slides that we want to exclude from the analysis by subsetting the cell_tables named vector accordingly:"
   ]
  },
  {
   "cell_type": "code",
   "execution_count": null,
   "id": "701c556b-8389-408a-8ffa-afc7ee75ac96",
   "metadata": {
    "vscode": {
     "languageId": "r"
    }
   },
   "outputs": [],
   "source": [
    "cell_tables <- cell_tables[1:length(cell_tables)] ## cell_tables[1:2] to only analyse the first two slides "
   ]
  },
  {
   "cell_type": "markdown",
   "id": "c5847487-37ce-46e0-9016-6620a4275af7",
   "metadata": {},
   "source": [
    "The slides we will be taking forward for analysis are the following:"
   ]
  },
  {
   "cell_type": "code",
   "execution_count": null,
   "id": "77bd6ce0-25dc-40e9-90de-f43a1da1befb",
   "metadata": {
    "vscode": {
     "languageId": "r"
    }
   },
   "outputs": [],
   "source": [
    "for(j in 1:length(cell_tables)){\n",
    "    print(cell_tables[j])\n",
    "}"
   ]
  },
  {
   "cell_type": "markdown",
   "id": "69dcdc93-7e08-4e85-b479-c827e9d47505",
   "metadata": {},
   "source": [
    "Next, we combine all the quantified marker expression tables into a common data table and remove any channels that don't occur in all samples. We also apply and offset to each slide to make visualisation of all slides in the same plot more straightforward:"
   ]
  },
  {
   "cell_type": "code",
   "execution_count": null,
   "id": "ad7e03c5-f4a7-4283-978a-123654b4ae66",
   "metadata": {
    "vscode": {
     "languageId": "r"
    }
   },
   "outputs": [],
   "source": [
    "cells <- list()\n",
    "\n",
    "cells$metadata <-purrr::map(tissue_names, function(tissue_name) {\n",
    "    data.table::fread(fs::path_join(c(cell_table_dir_qc,cell_tables[tissue_name]))) %>% \n",
    "        dplyr::rename(x = 'centroid-1', y='centroid-0', CellNum=label) %>%\n",
    "        dplyr::mutate(CellID = paste0('Cell', CellNum, '_', tissue_name)) %>%\n",
    "        dplyr::mutate(LibraryID = tissue_name)  %>%\n",
    "        dplyr::select(CellID, LibraryID, x, y, cell_size, DAPI_INIT,DAPI_FINAL, everything()) %>% \n",
    "        data.frame()\n",
    "}) %>% \n",
    "    dplyr::bind_rows() %>%\n",
    "    dplyr::select_if(~ !any(is.na(.))) %>% \n",
    "    dplyr::mutate(x_img = x, y_img = y)\n",
    "\n",
    "y_offset = 0\n",
    "for(j in unique(cells$metadata$LibraryID)){\n",
    "    \n",
    "    cells$metadata <- cells$metadata %>%\n",
    "        dplyr::mutate(y = dplyr::case_when(\n",
    "            LibraryID == j ~ y_img + y_offset+1000,\n",
    "        .default =y))\n",
    "    \n",
    "    y_offset <- y_offset +  max((dplyr::filter(cells$metadata, LibraryID == j))$y_img)\n",
    "    }"
   ]
  },
  {
   "cell_type": "markdown",
   "id": "addbcf83-2570-47f1-950a-5655cfa924cf",
   "metadata": {},
   "source": [
    "Finally, lets visualise the data table,"
   ]
  },
  {
   "cell_type": "code",
   "execution_count": null,
   "id": "0705b01a-9569-4d8c-ad7e-1d90b5ea2edb",
   "metadata": {
    "vscode": {
     "languageId": "r"
    }
   },
   "outputs": [],
   "source": [
    "cells$metadata %>% \n",
    "    split(.$LibraryID) %>% \n",
    "    purrr::imap(function(.SD, .name) {\n",
    "        .SD %>% dplyr::arrange(-y) %>% head(3)\n",
    "    })"
   ]
  },
  {
   "cell_type": "code",
   "execution_count": null,
   "id": "a3febae6-74ed-4fd6-b85c-485a85cc64b5",
   "metadata": {
    "vscode": {
     "languageId": "r"
    }
   },
   "outputs": [],
   "source": [
    "head(cells$metadata)"
   ]
  },
  {
   "cell_type": "code",
   "execution_count": null,
   "id": "162c9d90-222e-4295-a3bc-82bc0154c472",
   "metadata": {
    "vscode": {
     "languageId": "r"
    }
   },
   "outputs": [],
   "source": [
    "table(cells$metadata$LibraryID)"
   ]
  },
  {
   "cell_type": "markdown",
   "id": "7911c069-cb99-4ef1-a231-3c4e9824014a",
   "metadata": {},
   "source": [
    "the segmented cells"
   ]
  },
  {
   "cell_type": "code",
   "execution_count": null,
   "id": "d1d27352-53a0-437c-b351-3d70e3a2eed1",
   "metadata": {
    "vscode": {
     "languageId": "r"
    }
   },
   "outputs": [],
   "source": [
    "celldiveUtils:::do_scatter(data.frame(x = cells$metadata$y, y = -cells$metadata$x), cells$metadata, 'LibraryID')"
   ]
  },
  {
   "cell_type": "markdown",
   "id": "20a77ec4-cb0e-4dd4-885d-737d77e81f7d",
   "metadata": {},
   "source": [
    "and their abundance for each slide."
   ]
  },
  {
   "cell_type": "code",
   "execution_count": null,
   "id": "5236935f-029d-4604-bdab-794b872e8aac",
   "metadata": {
    "vscode": {
     "languageId": "r"
    }
   },
   "outputs": [],
   "source": [
    "data.table::data.table(cells$metadata)[, .N, by = LibraryID] %>% \n",
    "    ggplot2::ggplot(ggplot2::aes(LibraryID, N)) + \n",
    "        ggplot2::geom_bar(stat = 'identity') + \n",
    "        ggplot2::coord_flip() + \n",
    "        ggplot2::theme_bw(base_size = 14)"
   ]
  },
  {
   "cell_type": "markdown",
   "id": "47ae3b03-2274-4e58-9fad-fe93d7d587b6",
   "metadata": {
    "vscode": {
     "languageId": "r"
    }
   },
   "source": [
    "## 3. Filter and process data prior to analysis"
   ]
  },
  {
   "cell_type": "markdown",
   "id": "ff3cdd74-eeee-4d11-99db-f263e0801603",
   "metadata": {},
   "source": [
    "First, we separate out the meta/feature data of the segmented cells from the marker intensity values:"
   ]
  },
  {
   "cell_type": "code",
   "execution_count": null,
   "id": "28fd32ae-d97a-402e-8472-31c7735772b7",
   "metadata": {
    "vscode": {
     "languageId": "r"
    }
   },
   "outputs": [],
   "source": [
    "metadata_columns <- c(\"LibraryID\",\"x\",\"y\",\"cell_size\",\"CellNum\", \"area\", \"eccentricity\", \"major_axis_length\", \"minor_axis_length\", \"perimeter\", \"convex_area\", \"equivalent_diameter\", \"major_minor_axis_ratio\", \"perim_square_over_area\", \"major_axis_equiv_diam_ratio\", \"convex_hull_resid\", \"centroid_dif\", \"num_concavities\", \"fov\", \"mask_type\", \"x_img\", \"y_img\")\n",
    "channels_keep <- setdiff(colnames(cells$metadata),metadata_columns)\n",
    "cells$intensity <- cells$metadata[, channels_keep]\n",
    "cells$intensity <- cells$intensity %>% tibble::column_to_rownames(var = \"CellID\")\n",
    "cells$metadata <- cells$metadata[, c(\"CellID\", metadata_columns)]"
   ]
  },
  {
   "cell_type": "markdown",
   "id": "453faa57-193c-41aa-b3c9-cbc943cd6c65",
   "metadata": {},
   "source": [
    "Next, we can set low quality channels (`low_quality_channels`) that should be removed ahead of the analysis in the following section. By default only the `'DAPI_INIT'` and  `'DAPI_FINAL'` channels are removed."
   ]
  },
  {
   "cell_type": "code",
   "execution_count": null,
   "id": "8e899b43-4793-40a9-ad7c-af57422566ca",
   "metadata": {
    "vscode": {
     "languageId": "r"
    }
   },
   "outputs": [],
   "source": [
    "low_quality_channels <- c('PSTAT1', 'CD11C', 'CD34', 'PANCADHERIN', 'CDH11', 'DAPI_INIT', 'DAPI_FINAL', 'MERTK') ## c('DAPI_INIT', 'DAPI_FINAL') ## c('PSTAT1', 'CD11C', 'CD34', 'PANCADHERIN', 'CDH11', 'DAPI_INIT', 'DAPI_FINAL', 'MERTK')"
   ]
  },
  {
   "cell_type": "code",
   "execution_count": null,
   "id": "fe808346-62b6-4a37-8474-ef2e0dfb2413",
   "metadata": {
    "vscode": {
     "languageId": "r"
    }
   },
   "outputs": [],
   "source": [
    "channels_keep <- setdiff(colnames(cells$intensity), low_quality_channels) ## these are very low quality \n",
    "cells$intensity <- cells$intensity[, channels_keep]"
   ]
  },
  {
   "cell_type": "markdown",
   "id": "439f7811-615a-430f-bb47-3cb4d61ab9cd",
   "metadata": {},
   "source": [
    "After filtering out the low quality channels we perform rescaling of the data."
   ]
  },
  {
   "cell_type": "code",
   "execution_count": null,
   "id": "d23c2ba2-5094-4ebf-9adf-950987a5478b",
   "metadata": {
    "vscode": {
     "languageId": "r"
    }
   },
   "outputs": [],
   "source": [
    "#viz channels (density) - the do_scale function has been altered within utils_celldive.r to account for the fact our cells$intensity has already been normalised\n",
    "cells <- celldiveUtils::do_scale(cells, z_thresh=3, within_batch=TRUE)"
   ]
  },
  {
   "cell_type": "markdown",
   "id": "71f7bf7b-d0e0-4258-b7f2-463bd63eae9d",
   "metadata": {},
   "source": [
    "Now, we can visualize the data post filtering and scaling:"
   ]
  },
  {
   "cell_type": "code",
   "execution_count": null,
   "id": "304eafd5-9aec-4da7-aeca-9a5110f45b7e",
   "metadata": {
    "vscode": {
     "languageId": "r"
    }
   },
   "outputs": [],
   "source": [
    "cells$z %>% \n",
    "    data.frame() %>% \n",
    "    tibble::rownames_to_column('CellID') %>% \n",
    "    cbind(LibraryID = cells$metadata$LibraryID) %>% \n",
    "    tidyr::gather(key, val, all_of(colnames(cells$intensity))) %>% \n",
    "    ggplot2::ggplot(ggplot2::aes(val, key, color = LibraryID)) + \n",
    "        ggridges::geom_density_ridges2(fill = NA)"
   ]
  },
  {
   "cell_type": "code",
   "execution_count": null,
   "id": "444efee3-ba0e-43c1-bfd2-3cff9af691c6",
   "metadata": {
    "vscode": {
     "languageId": "r"
    }
   },
   "outputs": [],
   "source": [
    "cells$intensity %>% \n",
    "    tibble::rownames_to_column('CellID') %>% \n",
    "    cbind(LibraryID = cells$metadata$LibraryID) %>% \n",
    "    tidyr::gather(key, val, all_of(colnames(cells$intensity))) %>% \n",
    "    ggplot2::ggplot(ggplot2::aes(log1p(val), key, color = LibraryID)) + \n",
    "        ggridges::geom_density_ridges2(fill = NA)"
   ]
  },
  {
   "cell_type": "code",
   "execution_count": null,
   "id": "bbc795f3-31a7-46e2-a363-948b399ef24d",
   "metadata": {
    "vscode": {
     "languageId": "r"
    }
   },
   "outputs": [],
   "source": [
    "#viz intensities (space)\n",
    "features_plot <- colnames(cells$intensity)\n",
    "suppressWarnings({\n",
    "    celldiveUtils::plotFeatures(\n",
    "        t(cells$z), \n",
    "        data.frame(x = cells$metadata$y, y = -cells$metadata$x), \n",
    "        features_plot, \n",
    "        nrow = floor(sqrt(length(features_plot))),\n",
    "        no_guide = TRUE\n",
    "    )    \n",
    "})"
   ]
  },
  {
   "cell_type": "markdown",
   "id": "f35a6e1c-bf41-4ee5-a2b3-36eec568ce52",
   "metadata": {},
   "source": [
    "Lastly, lets create spots by pooling information of neighboring cells:"
   ]
  },
  {
   "cell_type": "code",
   "execution_count": null,
   "id": "66c0d8c9-ca10-45ad-a677-94b799fb6296",
   "metadata": {
    "vscode": {
     "languageId": "r"
    }
   },
   "outputs": [],
   "source": [
    "spots <- celldiveUtils::make_spots(cells)\n",
    "spots <- celldiveUtils::do_scale(spots, z_thresh=3, within_batch=TRUE)"
   ]
  },
  {
   "cell_type": "markdown",
   "id": "5d3233dc-47a0-453d-b61a-dc89aa7e9634",
   "metadata": {
    "vscode": {
     "languageId": "r"
    }
   },
   "source": [
    "### 3.2 Cache processed data to the hardrive"
   ]
  },
  {
   "cell_type": "markdown",
   "id": "ad6d470e-65f1-45ca-8bb5-e7bbfd9b0d5b",
   "metadata": {},
   "source": [
    "In order to save ourselves time in the future, we save and cache the above processed data onto the harddrive. If you have performed the above steps previously you can load `cells.rds` and `spots.rds` at this point in the notebook to proceed. "
   ]
  },
  {
   "cell_type": "code",
   "execution_count": null,
   "id": "29ec4ad0-cda1-45c4-a00b-de4b50ae8207",
   "metadata": {
    "vscode": {
     "languageId": "r"
    }
   },
   "outputs": [],
   "source": [
    "saveRDS(cells, fs::path_join(c(results_dir, 'cells.rds')))"
   ]
  },
  {
   "cell_type": "code",
   "execution_count": null,
   "id": "cfb26734-1a53-47f8-8dd5-a856e3efb813",
   "metadata": {
    "vscode": {
     "languageId": "r"
    }
   },
   "outputs": [],
   "source": [
    "saveRDS(spots, fs::path_join(c(results_dir, 'spots.rds')))"
   ]
  },
  {
   "cell_type": "markdown",
   "id": "915aedbd-c866-4011-9e1b-f5f6896b1a08",
   "metadata": {
    "vscode": {
     "languageId": "r"
    }
   },
   "source": [
    "## 4. Performing harmonisation, dimension reduction and clustering"
   ]
  },
  {
   "cell_type": "markdown",
   "id": "7ccd2bb6-8d0d-4881-bc14-54c37cfe6b55",
   "metadata": {},
   "source": [
    "In this section, we perform data integration using `Harmony`, dimension reduction by `UMAP` and clustering using `Louvain` community detection. We do this both for the spot-based as well as cell-based data."
   ]
  },
  {
   "cell_type": "markdown",
   "id": "81aee628-5df1-41cb-a287-ce072487eb54",
   "metadata": {},
   "source": [
    "### 4.1 Spots"
   ]
  },
  {
   "cell_type": "markdown",
   "id": "6ece9bf1-c740-4271-88ea-063857f9df1a",
   "metadata": {},
   "source": [
    "We start with the spot data and perform both dimension reduction as well as data integration:"
   ]
  },
  {
   "cell_type": "code",
   "execution_count": null,
   "id": "9e5e5492-ea05-4b26-a627-ba2219564520",
   "metadata": {
    "vscode": {
     "languageId": "r"
    }
   },
   "outputs": [],
   "source": [
    "system.time({\n",
    "    set.seed(1234)\n",
    "    spots <- spots %>% \n",
    "        # celldiveUtils::do_norm() %>% ## is this step redundant\n",
    "        # celldiveUtils::do_scale(3, TRUE) %>% # can we do this once and don't repeat it here\n",
    "        celldiveUtils::do_pca() %>% \n",
    "        celldiveUtils::do_umap('V', 'U0', seed=seed, n_sgd_threads = 1, batch=TRUE) %>% \n",
    "        celldiveUtils::harmonize() %>% \n",
    "        celldiveUtils::do_umap('H', 'U1', seed=seed, n_sgd_threads = 1, batch=TRUE) %>% \n",
    "        identity()\n",
    "})"
   ]
  },
  {
   "cell_type": "markdown",
   "id": "94bc3359-8dae-42a9-be9e-5ba7c60cfd96",
   "metadata": {},
   "source": [
    "Next, we visualize the embedding representation following the dimension reduction in the previous step."
   ]
  },
  {
   "cell_type": "code",
   "execution_count": null,
   "id": "b18538a2-fd4b-4db4-9d00-1bde1934ac17",
   "metadata": {
    "vscode": {
     "languageId": "r"
    }
   },
   "outputs": [],
   "source": [
    "celldiveUtils::fig.size(5, 15)\n",
    "(\n",
    "    celldiveUtils::do_scatter(spots$U1$embedding, spots$metadata, 'LibraryID') | \n",
    "    celldiveUtils::do_scatter(spots$U1$embedding, spots$metadata, 'LibraryID', dplyr::quo(LibraryID)) \n",
    ") + \n",
    "patchwork::plot_layout(widths = c(1, 3))"
   ]
  },
  {
   "cell_type": "code",
   "execution_count": null,
   "id": "7e4a9a76-9a50-48d8-9f6b-db9efcadcdaf",
   "metadata": {
    "vscode": {
     "languageId": "r"
    }
   },
   "outputs": [],
   "source": [
    "pdf(fs::path_join(c(results_dir, \"features_spots_clustering_umap.pdf\")), height=16, width=24)\n",
    "features_plot <- colnames(spots$z)\n",
    "suppressWarnings({\n",
    "    celldiveUtils::plotFeatures(\n",
    "        t(spots$z), \n",
    "        spots$U1$embedding, \n",
    "        features_plot, \n",
    "        nrow = floor(sqrt(length(features_plot))),\n",
    "        no_guide = TRUE)    \n",
    "})\n",
    "dev.off()"
   ]
  },
  {
   "cell_type": "markdown",
   "id": "dddcaf5f-5a3a-4384-aac4-90bc36d9aa7d",
   "metadata": {},
   "source": [
    "Following this, we perform community detection and clustering using the Louvain algorithm. We need to pass a resolution parameter to the Louvain algorithm. This parameter efffects the size of the identified clusters, e.g. a smaller resolution leads to more but smaller identified clusters and larger resolution on the other hand leads to larger and fewer identified clusters. You can set multiple resolution using the `louvain_clustering_resolution_spots` variable. By default 4 different resolutions are set `c(.1, .4, .8, 1.2)`. Please, adjust this variable according to your data."
   ]
  },
  {
   "cell_type": "code",
   "execution_count": null,
   "id": "c0616eeb-4355-4e20-b42b-a03da23c6eea",
   "metadata": {
    "vscode": {
     "languageId": "r"
    }
   },
   "outputs": [],
   "source": [
    "louvain_clustering_resolution_spots <- c(.1, .4, .8, 1.2)"
   ]
  },
  {
   "cell_type": "code",
   "execution_count": null,
   "id": "c77c6672-784f-4f7e-9dc6-83e5e24870dd",
   "metadata": {
    "vscode": {
     "languageId": "r"
    }
   },
   "outputs": [],
   "source": [
    "system.time({\n",
    "    spots <- spots %>% \n",
    "        celldiveUtils::do_louvain('U1', louvain_clustering_resolution_spots) %>% \n",
    "        celldiveUtils::do_markers()\n",
    "})"
   ]
  },
  {
   "cell_type": "markdown",
   "id": "a5c82e5c-bd42-481c-91bc-feaa53b028fe",
   "metadata": {},
   "source": [
    "Next, we plot the results of the clustering step on top of the UMAP."
   ]
  },
  {
   "cell_type": "code",
   "execution_count": null,
   "id": "17a747a5-74da-48a1-8d0f-dc8045c1bf11",
   "metadata": {
    "vscode": {
     "languageId": "r"
    }
   },
   "outputs": [],
   "source": [
    "## Only plot up to 33 colors \n",
    "clusters_plot <- names(which(spots$Clusters %>% map(table) %>% map_int(length) <= length(celldiveUtils:::colors_overload)))\n",
    "\n",
    "pdf(fs::path_join(c(results_dir, \"spots_clustering_umap.pdf\")), height=30, width=30)\n",
    "celldiveUtils::fig.size(4 * length(clusters_plot), 15)\n",
    "map(clusters_plot, function(.name) {\n",
    "    celldiveUtils::do_scatter(spots$U1$embedding, spots$Clusters, .name) |\n",
    "    celldiveUtils::do_scatter(data.frame(x = spots$metadata$y, y = -spots$metadata$x), spots$Clusters, .name, do_labels = FALSE)\n",
    "}) %>% \n",
    "    reduce(`/`)\n",
    "dev.off()"
   ]
  },
  {
   "cell_type": "markdown",
   "id": "0c5dc310-14db-4499-8bd3-3863a6e6312f",
   "metadata": {},
   "source": [
    "Lastly, we cache the spots data post clustering to harddrive:"
   ]
  },
  {
   "cell_type": "code",
   "execution_count": null,
   "id": "3eef64b8-dedb-48e4-bc54-78dec83aeb94",
   "metadata": {
    "vscode": {
     "languageId": "r"
    }
   },
   "outputs": [],
   "source": [
    "saveRDS(spots, fs::path_join(c(results_dir, 'spots_post_clustering.rds')))"
   ]
  },
  {
   "cell_type": "markdown",
   "id": "8c583334-059e-467c-8f50-78825a20c66c",
   "metadata": {
    "vscode": {
     "languageId": "r"
    }
   },
   "source": [
    "### 4.2 Cells"
   ]
  },
  {
   "cell_type": "markdown",
   "id": "772cb7ad-a5e8-4d0f-8764-380253e3e0e7",
   "metadata": {},
   "source": [
    "Analogous to the previous section, we perform both dimension reduction as well as data integration on the cell-based data:"
   ]
  },
  {
   "cell_type": "code",
   "execution_count": null,
   "id": "95a392d8-b809-49b6-bd3e-b20c4031fcde",
   "metadata": {
    "vscode": {
     "languageId": "r"
    }
   },
   "outputs": [],
   "source": [
    "system.time({\n",
    "    set.seed(1234)\n",
    "    cells <- cells %>% \n",
    "        # celldiveUtils::do_norm() %>% ## is redundant\n",
    "        # celldiveUtils::do_scale(3, TRUE) %>% ## is redundant\n",
    "        celldiveUtils::do_pca() %>% \n",
    "        celldiveUtils::do_umap('V', 'U0', seed=seed, n_sgd_threads = 1, batch=TRUE) %>% \n",
    "        celldiveUtils::harmonize() %>% \n",
    "        celldiveUtils::do_umap('H', 'U1', seed=seed, n_sgd_threads = 1, batch=TRUE) %>% \n",
    "        identity()\n",
    "})"
   ]
  },
  {
   "cell_type": "markdown",
   "id": "0d4cc7e1-f7e5-4519-ad9b-22d851099785",
   "metadata": {
    "execution": {
     "iopub.execute_input": "2024-11-13T14:34:28.584395Z",
     "iopub.status.busy": "2024-11-13T14:34:28.583817Z",
     "iopub.status.idle": "2024-11-13T14:34:28.588566Z",
     "shell.execute_reply": "2024-11-13T14:34:28.587982Z"
    }
   },
   "source": [
    "Next, we visualize the embedding representation following the dimension reduction in the previous step."
   ]
  },
  {
   "cell_type": "code",
   "execution_count": null,
   "id": "66c72e61-5b16-488f-9627-7e963ee361ca",
   "metadata": {
    "vscode": {
     "languageId": "r"
    }
   },
   "outputs": [],
   "source": [
    "celldiveUtils::fig.size(5, 15)\n",
    "with(cells, {\n",
    "    (\n",
    "        celldiveUtils::do_scatter(U1$embedding, metadata, 'LibraryID') | \n",
    "        celldiveUtils::do_scatter(U1$embedding, metadata, 'LibraryID', dplyr::quo(LibraryID)) \n",
    "    ) + \n",
    "    plot_layout(widths = c(1, 3))\n",
    "})"
   ]
  },
  {
   "cell_type": "code",
   "execution_count": null,
   "id": "9a60ce70-84e9-4696-ad1f-e183e8beb3c4",
   "metadata": {
    "vscode": {
     "languageId": "r"
    }
   },
   "outputs": [],
   "source": [
    "pdf(fs::path_join(c(results_dir, \"features_cells_clustering_umap.pdf\")), height=16, width=24)\n",
    "celldiveUtils::fig.size(16, 24)\n",
    "features_plot <- colnames(cells$z)\n",
    "suppressWarnings({\n",
    "    celldiveUtils::plotFeatures(\n",
    "        t(cells$z), \n",
    "        cells$U1$embedding, \n",
    "        features_plot, \n",
    "        nrow = floor(sqrt(length(features_plot))),\n",
    "        no_guide = TRUE\n",
    "    )    \n",
    "})\n",
    "dev.off()"
   ]
  },
  {
   "cell_type": "markdown",
   "id": "c5371635-60cd-4a57-bc60-872e11ed84f3",
   "metadata": {},
   "source": [
    "Following this, we perform community detection and clustering using the Louvain algorithm. We need to pass a resolution parameter to the Louvain algorithm. This parameter efffects the size of the identified clusters, e.g. a smaller resolution leads to more but smaller identified clusters and larger resolution on the other hand leads to larger and fewer identified clusters. You can set multiple resolution using the `louvain_clustering_resolution_spots` variable. By default 4 different resolutions are set `c(.1, .4, .8, 1.2)`. Please, adjust this variable according to your data."
   ]
  },
  {
   "cell_type": "code",
   "execution_count": null,
   "id": "4e080203-54ce-4114-817e-99f739e15300",
   "metadata": {
    "vscode": {
     "languageId": "r"
    }
   },
   "outputs": [],
   "source": [
    "louvain_clustering_resolution_cells <- c(.1, .4, .8, 1.2)"
   ]
  },
  {
   "cell_type": "code",
   "execution_count": null,
   "id": "d90a8d7c-95a2-40e1-b8fc-d88047e3d38b",
   "metadata": {
    "vscode": {
     "languageId": "r"
    }
   },
   "outputs": [],
   "source": [
    "system.time({\n",
    "    cells <- cells %>% \n",
    "        celldiveUtils::do_louvain('U1', louvain_clustering_resolution_cells) %>% \n",
    "        celldiveUtils::do_markers()\n",
    "})"
   ]
  },
  {
   "cell_type": "markdown",
   "id": "57ca3a32-c839-4424-88b3-7bddb616a091",
   "metadata": {},
   "source": [
    "Next, we plot the results of the clustering step on top of the UMAP."
   ]
  },
  {
   "cell_type": "code",
   "execution_count": null,
   "id": "9602dcf3-562b-497f-bfc5-1d926feb9a53",
   "metadata": {
    "vscode": {
     "languageId": "r"
    }
   },
   "outputs": [],
   "source": [
    "pdf(fs::path_join(c(results_dir, \"cells_clustering_umap.pdf\")), height=30, width=30)\n",
    "## Only plot up to 33 colors \n",
    "with(cells, {\n",
    "    clusters_plot <- names(which(Clusters %>% map(table) %>% map_int(length) <= length(celldiveUtils:::colors_overload)))\n",
    "    celldiveUtils::fig.size(4 * length(clusters_plot), 15)\n",
    "    map(clusters_plot, function(.name) {\n",
    "        celldiveUtils::do_scatter(U1$embedding, Clusters, .name) |\n",
    "        celldiveUtils::do_scatter(data.frame(x = metadata$y, y = -metadata$x), Clusters, .name, do_labels = FALSE)\n",
    "    }) %>% \n",
    "        reduce(`/`)\n",
    "    \n",
    "})\n",
    "dev.off()"
   ]
  },
  {
   "cell_type": "markdown",
   "id": "226cc719-aa77-4160-924a-47c255d3d217",
   "metadata": {},
   "source": [
    "Lastly, we cache cells data post clustering to harddrive:"
   ]
  },
  {
   "cell_type": "code",
   "execution_count": null,
   "id": "e0530d7f-d167-4732-817c-9849dba91348",
   "metadata": {
    "vscode": {
     "languageId": "r"
    }
   },
   "outputs": [],
   "source": [
    "saveRDS(cells, fs::path_join(c(results_dir, 'cells_post_clustering.rds')))"
   ]
  },
  {
   "cell_type": "markdown",
   "id": "3af7b698-5805-4bef-857b-242855ab38eb",
   "metadata": {
    "vscode": {
     "languageId": "r"
    }
   },
   "source": [
    "## 5. Plotting results "
   ]
  },
  {
   "cell_type": "markdown",
   "id": "585ecce1-0437-476a-96aa-3d9a1cb847f5",
   "metadata": {},
   "source": [
    "### 5.1 UMAPs"
   ]
  },
  {
   "cell_type": "markdown",
   "id": "6e2f235c-97f5-478b-8fe7-3809de667cdc",
   "metadata": {},
   "source": [
    "In this section, we are plotting the clusters in context of the UMAPs and overlay various marker expression. This section in particular is extremely specific to your tissue, samples, staining panel and scientific question. Thus, please make sure to correctly adopt it to your data and questions. "
   ]
  },
  {
   "cell_type": "code",
   "execution_count": null,
   "id": "c4e8ea3d-5616-48e2-997b-5e028b495d99",
   "metadata": {
    "vscode": {
     "languageId": "r"
    }
   },
   "outputs": [],
   "source": [
    "pdf(fs::path_join(c(results_dir, \"post_plot_clusters.pdf\")), height=30, width=30)\n",
    "with(spots, {\n",
    "    clusters_plot <- names(which(Clusters %>% map(table) %>% map_int(length) <= length(celldiveUtils:::colors_overload)))\n",
    "    celldiveUtils::fig.size(4 * length(clusters_plot), 15)\n",
    "    map(clusters_plot, function(.name) {\n",
    "        celldiveUtils::do_scatter(U1$embedding, Clusters, .name) |\n",
    "        celldiveUtils::do_scatter(data.frame(x = metadata$y, y = -metadata$x), Clusters, .name, do_labels = FALSE)\n",
    "    }) %>% \n",
    "        reduce(`/`)\n",
    "    \n",
    "})\n",
    "dev.off()"
   ]
  },
  {
   "cell_type": "markdown",
   "id": "2f7e6e24-0c30-4355-b233-39968c3d6101",
   "metadata": {},
   "source": [
    "Here, you can choose which resolution of Louvain clustering to plot by setting the `cluster_resolution_plot` variable accordingly. By default it is set to `0.4`."
   ]
  },
  {
   "cell_type": "code",
   "execution_count": null,
   "id": "4b5b099d-a19c-4e6a-9dac-b74071deebd5",
   "metadata": {
    "vscode": {
     "languageId": "r"
    }
   },
   "outputs": [],
   "source": [
    "cluster_resolution_plot = 0.4"
   ]
  },
  {
   "cell_type": "code",
   "execution_count": null,
   "id": "7d3f1dc1-3c35-4e48-8511-9120918e271a",
   "metadata": {
    "vscode": {
     "languageId": "r"
    }
   },
   "outputs": [],
   "source": [
    "cluster_resolution_plot_string = paste0('Clust',cluster_resolution_plot)"
   ]
  },
  {
   "cell_type": "code",
   "execution_count": null,
   "id": "70f94a22-defb-43f1-8899-7102a33ec794",
   "metadata": {
    "vscode": {
     "languageId": "r"
    }
   },
   "outputs": [],
   "source": [
    "pdf(fs::path_join(c(results_dir, \"clusters.pdf\")), height = 10, width = 10)\n",
    "with(spots, celldiveUtils::do_scatter(U1$embedding, Clusters, cluster_resolution_plot_string))\n",
    "dev.off()"
   ]
  },
  {
   "cell_type": "code",
   "execution_count": null,
   "id": "8c6cbe52-2abe-4633-b245-77f0408795d4",
   "metadata": {
    "vscode": {
     "languageId": "r"
    }
   },
   "outputs": [],
   "source": [
    "pdf(fs::path_join(c(results_dir, \"clusters_individual.pdf\")), height = 15, width = 10)\n",
    "with(spots, {\n",
    "    celldiveUtils::do_scatter(U1$embedding, Clusters, cluster_resolution_plot_string, dplyr::quo(!!rlang::sym(cluster_resolution_plot_string)), do_labels=FALSE, nrow=6)       \n",
    "})\n",
    "dev.off()"
   ]
  },
  {
   "cell_type": "markdown",
   "id": "b1004e7d-8843-4eaa-8d32-5df3a24ecc45",
   "metadata": {},
   "source": [
    "The following code snippet demonstrate how we can overlay the expression of various markers on top of the UMAP and clustering results. Please, consider these merely as example and again adapt them to your specific tissue and question. In this first plot we can visualize to different sets of markers side-by-side by defining the variables `marker_set_1` and `marker_set_2` accordingly."
   ]
  },
  {
   "cell_type": "code",
   "execution_count": null,
   "id": "09686ba3-ef50-4c54-a856-1ec6272cf11c",
   "metadata": {
    "vscode": {
     "languageId": "r"
    }
   },
   "outputs": [],
   "source": [
    "marker_set_1 <- c('ASMA', 'CD31', 'CD90', 'CD146')\n",
    "marker_set_2 <- c('CCL19', 'CD3', 'CD4', 'CD45')"
   ]
  },
  {
   "cell_type": "code",
   "execution_count": null,
   "id": "de68d0ae-55a9-4b1b-b099-090e73b43573",
   "metadata": {
    "vscode": {
     "languageId": "r"
    }
   },
   "outputs": [],
   "source": [
    "pdf(fs::path_join(c(results_dir, \"markers_across_clusters.pdf\")), height = 4, width = 15)\n",
    "celldiveUtils::plotFeatures(t(spots$z), spots$U1$embedding, marker_set_1, nrow = 1,no_guide = TRUE) %>% plot()\n",
    "celldiveUtils::plotFeatures(t(spots$z), spots$U1$embedding, marker_set_2, nrow = 1,no_guide = TRUE) %>% plot() \n",
    "dev.off()"
   ]
  },
  {
   "cell_type": "markdown",
   "id": "aa27dcd1-765e-4995-bdca-4b0f54ca61c5",
   "metadata": {},
   "source": [
    "We can also create a comparitive plot for two tissue feature with corresponding markers by defining the named vector `two_marker_comparison` as, e.g. `c(epithelium = \"VIM\", stroma = \"PANCK\")` comparing stroma vs epithelium."
   ]
  },
  {
   "cell_type": "code",
   "execution_count": null,
   "id": "4159f529-0dc0-4c48-8956-c2859d6d3a48",
   "metadata": {
    "vscode": {
     "languageId": "r"
    }
   },
   "outputs": [],
   "source": [
    "two_marker_comparison <- c(epithelium = \"VIM\", stroma = \"PANCK\")"
   ]
  },
  {
   "cell_type": "code",
   "execution_count": null,
   "id": "1ac5fab5-8613-45cf-a0aa-e746812490e2",
   "metadata": {
    "vscode": {
     "languageId": "r"
    }
   },
   "outputs": [],
   "source": [
    "pdf(fs::path_join(c(results_dir, str_glue(\"{names(two_marker_comparison[1])}_vs_{names(two_marker_comparison[2])}_across_clusters.pdf\"))), height = 4, width = 8)\n",
    "celldiveUtils::plotFeatures(t(spots$z), spots$U1$embedding, as.vector(two_marker_comparison), nrow = 1, no_guide = TRUE) %>% plot() \n",
    "dev.off()"
   ]
  },
  {
   "cell_type": "markdown",
   "id": "c9357bc0-73ac-4ac7-85e8-b852b6f2033f",
   "metadata": {},
   "source": [
    "Lastly, we can also visualise expression of selected markers over clusters identified by the different resolution paremeters of the Louvain algorithm by defining the `markers_set_across_cluster_resolutions` below. By default we loop over all resolutions as defined in the previous section."
   ]
  },
  {
   "cell_type": "code",
   "execution_count": null,
   "id": "619d8a3a-9355-468a-9915-a14a3828d9cd",
   "metadata": {
    "vscode": {
     "languageId": "r"
    }
   },
   "outputs": [],
   "source": [
    "markers_set_across_cluster_resolutions <- c('ASMA', 'CD31', 'CD90', 'CD146', 'CCL19', 'CD3', 'CD4', 'CD45', 'VIM', 'PANCK')"
   ]
  },
  {
   "cell_type": "code",
   "execution_count": null,
   "id": "cffa3692-c97c-4bf8-988b-4c8d0be39db6",
   "metadata": {
    "vscode": {
     "languageId": "r"
    }
   },
   "outputs": [],
   "source": [
    "pdf(fs::path_join(c(results_dir, \"heatmap_multiple_res.pdf\")), height = 4, width = 8)\n",
    "# for loop over  louvain_clustering_resolution_spots\n",
    "for(j in cluster_resolution_plot){\n",
    "    cluster_resolution_tmp = paste0('Clust',j)\n",
    "    celldiveUtils::plot_heatmap(spots$Markers[[cluster_resolution_tmp]], markers_set_across_cluster_resolutions, TRUE)\n",
    "}\n",
    "dev.off()"
   ]
  },
  {
   "cell_type": "markdown",
   "id": "d8f7525d-3b7e-435f-91d2-f95795b2ae66",
   "metadata": {
    "vscode": {
     "languageId": "r"
    }
   },
   "source": [
    "## 5.2 Niche heatmaps"
   ]
  },
  {
   "cell_type": "markdown",
   "id": "67bb468b-81df-4e9f-a63f-72fa66e0488a",
   "metadata": {},
   "source": [
    "In this last step, we annotate the clusters into broad niches. The code below is purely illustrative and you need to adjust the cluster indices and corresponding niche annotation to your tissue and staining as well as which cluster resolution to use (`cluster_resolution_niche_annotation`). By default we use the highest resolution as defined previously by `louvain_clustering_resolution_cells`."
   ]
  },
  {
   "cell_type": "code",
   "execution_count": null,
   "id": "2d41d1ef-d8bb-4af8-8142-5e89baf40ce6",
   "metadata": {},
   "outputs": [],
   "source": [
    "cluster_resolution_niche_annotation = max(louvain_clustering_resolution_cells)"
   ]
  },
  {
   "cell_type": "code",
   "execution_count": null,
   "id": "0cef5e50-2c96-4efa-9684-72630a4d4617",
   "metadata": {
    "vscode": {
     "languageId": "r"
    }
   },
   "outputs": [],
   "source": [
    "if ('Niche' %in% colnames(spots$metadata)) \n",
    "    spots$metadata$Niche <- NULL\n",
    "\n",
    "cluster_resolution_niche_annotation_string = paste0('Clust',cluster_resolution_niche_annotation)\n",
    "spots$metadata$Cluster <- paste0('C', spots$Clusters[[cluster_resolution_niche_annotation_string]])\n",
    "\n",
    "spots$metadata <- spots$metadata %>% \n",
    "    dplyr::mutate(Niche = dplyr::case_when(\n",
    "        Cluster %in% paste0('C', c(12,1,0,26,8,18)) ~ 'Lympho_Vascular',\n",
    "        Cluster %in% paste0('C', c(2,5,14,17,16)) ~ 'Perivascular',\n",
    "        Cluster %in% paste0('C', c(13,32,4,3,27,11,10,30,9,28)) ~ 'Other',\n",
    "        Cluster %in% paste0('C', c(29,19,23,21,25,31)) ~ 'Epithelial',\n",
    "        Cluster %in% paste0('C', c(6,22,7,20,15,24)) ~ 'Lymphoid'\n",
    "    )) %>% \n",
    "    dplyr::mutate(Niche_Broad = gsub('\\\\d+', '', Niche))"
   ]
  },
  {
   "cell_type": "markdown",
   "id": "c1709290-e5e6-45e6-b545-c3dc64eb0d71",
   "metadata": {},
   "source": [
    "Now, we visualize the annotated Niche both as UMAPs and heatmaps."
   ]
  },
  {
   "cell_type": "code",
   "execution_count": null,
   "id": "b7bd88a2-e5c0-467f-a232-400f8d55a0f9",
   "metadata": {
    "vscode": {
     "languageId": "r"
    }
   },
   "outputs": [],
   "source": [
    "pdf(fs::path_join(c(results_dir, \"niches_umap.pdf\")), width=8, height=8)\n",
    "celldiveUtils::fig.size(8, 12)\n",
    "with(spots, {\n",
    "    celldiveUtils::do_scatter(U1$embedding, metadata, 'Niche', do_labels = TRUE)    \n",
    "})\n",
    "dev.off()"
   ]
  },
  {
   "cell_type": "code",
   "execution_count": null,
   "id": "d0ab5726-db8d-47e9-9a0c-00568f2ff2a3",
   "metadata": {
    "vscode": {
     "languageId": "r"
    }
   },
   "outputs": [],
   "source": [
    "pdf(fs::path_join(c(results_dir, \"niches.pdf\")), width=12, height=8)\n",
    "celldiveUtils::fig.size(8, 12)\n",
    "with(spots, {\n",
    "    celldiveUtils::do_scatter(\n",
    "        data.frame(x = metadata$y, y = -metadata$x),\n",
    "        metadata, \n",
    "        'Niche', dplyr::quo(Niche_Broad), \n",
    "        do_labels = FALSE, \n",
    "        nrow = 2\n",
    "    )    \n",
    "})\n",
    "dev.off()"
   ]
  },
  {
   "cell_type": "code",
   "execution_count": null,
   "id": "3eec6e65-ff75-4b18-a8fd-244c84040a09",
   "metadata": {
    "vscode": {
     "languageId": "r"
    }
   },
   "outputs": [],
   "source": [
    "pdf(fs::path_join(c(results_dir, \"niche_heatmaps.pdf\")), width=8, height=10)\n",
    "celldiveUtils::fig.size(8, 10)\n",
    "with(spots, presto::wilcoxauc(t(z), metadata$Niche)) %>% \n",
    "    celldiveUtils::plot_heatmap(.scale=TRUE)\n",
    "dev.off()"
   ]
  },
  {
   "cell_type": "markdown",
   "id": "93b8480d-4260-40ad-b9bd-3d3d5bd29def",
   "metadata": {},
   "source": [
    "Finally, we cache and save the spots data post niche annotation to harddrive :"
   ]
  },
  {
   "cell_type": "code",
   "execution_count": null,
   "id": "dc03d74b-da94-4088-a43b-0d59e2852b63",
   "metadata": {
    "vscode": {
     "languageId": "r"
    }
   },
   "outputs": [],
   "source": [
    "saveRDS(spots, fs::path_join(c(results_dir, 'spots_post_niche_annotation.rds')))"
   ]
  }
 ],
 "metadata": {
  "kernelspec": {
   "display_name": "R",
   "language": "R",
   "name": "ir"
  },
  "language_info": {
   "codemirror_mode": "r",
   "file_extension": ".r",
   "mimetype": "text/x-r-source",
   "name": "R",
   "pygments_lexer": "r",
   "version": "4.4.1"
  }
 },
 "nbformat": 4,
 "nbformat_minor": 5
}
