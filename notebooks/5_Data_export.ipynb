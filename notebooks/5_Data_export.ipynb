{
 "cells": [
  {
   "cell_type": "markdown",
   "id": "16dcd0dd",
   "metadata": {
    "vscode": {
     "languageId": "raw"
    }
   },
   "source": [
    "# Combining QuPath and Deepcell segmentation results"
   ]
  },
  {
   "cell_type": "markdown",
   "id": "607c72c1",
   "metadata": {},
   "source": [
    "# Prerequisites"
   ]
  },
  {
   "cell_type": "code",
   "execution_count": 2,
   "id": "cfbc1554",
   "metadata": {
    "execution": {
     "iopub.execute_input": "2024-11-14T00:20:04.292994Z",
     "iopub.status.busy": "2024-11-14T00:20:04.273311Z",
     "iopub.status.idle": "2024-11-14T00:20:12.604094Z",
     "shell.execute_reply": "2024-11-14T00:20:12.603100Z"
    },
    "name": "Read in Libraries",
    "tags": [
     "remove_input"
    ],
    "vscode": {
     "languageId": "r"
    }
   },
   "outputs": [
    {
     "name": "stderr",
     "output_type": "stream",
     "text": [
      "Loading required package: SpatialExperiment\n",
      "\n",
      "Loading required package: SingleCellExperiment\n",
      "\n",
      "Loading required package: SummarizedExperiment\n",
      "\n",
      "Loading required package: MatrixGenerics\n",
      "\n",
      "Loading required package: matrixStats\n",
      "\n",
      "\n",
      "Attaching package: ‘MatrixGenerics’\n",
      "\n",
      "\n",
      "The following objects are masked from ‘package:matrixStats’:\n",
      "\n",
      "    colAlls, colAnyNAs, colAnys, colAvgsPerRowSet, colCollapse,\n",
      "    colCounts, colCummaxs, colCummins, colCumprods, colCumsums,\n",
      "    colDiffs, colIQRDiffs, colIQRs, colLogSumExps, colMadDiffs,\n",
      "    colMads, colMaxs, colMeans2, colMedians, colMins, colOrderStats,\n",
      "    colProds, colQuantiles, colRanges, colRanks, colSdDiffs, colSds,\n",
      "    colSums2, colTabulates, colVarDiffs, colVars, colWeightedMads,\n",
      "    colWeightedMeans, colWeightedMedians, colWeightedSds,\n",
      "    colWeightedVars, rowAlls, rowAnyNAs, rowAnys, rowAvgsPerColSet,\n",
      "    rowCollapse, rowCounts, rowCummaxs, rowCummins, rowCumprods,\n",
      "    rowCumsums, rowDiffs, rowIQRDiffs, rowIQRs, rowLogSumExps,\n",
      "    rowMadDiffs, rowMads, rowMaxs, rowMeans2, rowMedians, rowMins,\n",
      "    rowOrderStats, rowProds, rowQuantiles, rowRanges, rowRanks,\n",
      "    rowSdDiffs, rowSds, rowSums2, rowTabulates, rowVarDiffs, rowVars,\n",
      "    rowWeightedMads, rowWeightedMeans, rowWeightedMedians,\n",
      "    rowWeightedSds, rowWeightedVars\n",
      "\n",
      "\n",
      "Loading required package: GenomicRanges\n",
      "\n",
      "Loading required package: stats4\n",
      "\n",
      "Loading required package: BiocGenerics\n",
      "\n",
      "\n",
      "Attaching package: ‘BiocGenerics’\n",
      "\n",
      "\n",
      "The following objects are masked from ‘package:stats’:\n",
      "\n",
      "    IQR, mad, sd, var, xtabs\n",
      "\n",
      "\n",
      "The following objects are masked from ‘package:base’:\n",
      "\n",
      "    anyDuplicated, aperm, append, as.data.frame, basename, cbind,\n",
      "    colnames, dirname, do.call, duplicated, eval, evalq, Filter, Find,\n",
      "    get, grep, grepl, intersect, is.unsorted, lapply, Map, mapply,\n",
      "    match, mget, order, paste, pmax, pmax.int, pmin, pmin.int,\n",
      "    Position, rank, rbind, Reduce, rownames, sapply, saveRDS, setdiff,\n",
      "    table, tapply, union, unique, unsplit, which.max, which.min\n",
      "\n",
      "\n",
      "Loading required package: S4Vectors\n",
      "\n",
      "\n",
      "Attaching package: ‘S4Vectors’\n",
      "\n",
      "\n",
      "The following object is masked from ‘package:utils’:\n",
      "\n",
      "    findMatches\n",
      "\n",
      "\n",
      "The following objects are masked from ‘package:base’:\n",
      "\n",
      "    expand.grid, I, unname\n",
      "\n",
      "\n",
      "Loading required package: IRanges\n",
      "\n",
      "Loading required package: GenomeInfoDb\n",
      "\n",
      "Loading required package: Biobase\n",
      "\n",
      "Welcome to Bioconductor\n",
      "\n",
      "    Vignettes contain introductory material; view with\n",
      "    'browseVignettes()'. To cite Bioconductor, see\n",
      "    'citation(\"Biobase\")', and for packages 'citation(\"pkgname\")'.\n",
      "\n",
      "\n",
      "\n",
      "Attaching package: ‘Biobase’\n",
      "\n",
      "\n",
      "The following object is masked from ‘package:MatrixGenerics’:\n",
      "\n",
      "    rowMedians\n",
      "\n",
      "\n",
      "The following objects are masked from ‘package:matrixStats’:\n",
      "\n",
      "    anyMissing, rowMedians\n",
      "\n",
      "\n",
      "Loading required package: ggplot2\n",
      "\n",
      "── \u001b[1mAttaching core tidyverse packages\u001b[22m ──────────────────────────────────────────────── tidyverse 2.0.0 ──\n",
      "\u001b[32m✔\u001b[39m \u001b[34mdplyr    \u001b[39m 1.1.4     \u001b[32m✔\u001b[39m \u001b[34mreadr    \u001b[39m 2.1.5\n",
      "\u001b[32m✔\u001b[39m \u001b[34mforcats  \u001b[39m 1.0.0     \u001b[32m✔\u001b[39m \u001b[34mstringr  \u001b[39m 1.5.1\n",
      "\u001b[32m✔\u001b[39m \u001b[34mlubridate\u001b[39m 1.9.3     \u001b[32m✔\u001b[39m \u001b[34mtibble   \u001b[39m 3.2.1\n",
      "\u001b[32m✔\u001b[39m \u001b[34mpurrr    \u001b[39m 1.0.2     \u001b[32m✔\u001b[39m \u001b[34mtidyr    \u001b[39m 1.3.1\n",
      "── \u001b[1mConflicts\u001b[22m ────────────────────────────────────────────────────────────────── tidyverse_conflicts() ──\n",
      "\u001b[31m✖\u001b[39m \u001b[34mlubridate\u001b[39m::\u001b[32m%within%()\u001b[39m masks \u001b[34mIRanges\u001b[39m::%within%()\n",
      "\u001b[31m✖\u001b[39m \u001b[34mdplyr\u001b[39m::\u001b[32mcollapse()\u001b[39m     masks \u001b[34mIRanges\u001b[39m::collapse()\n",
      "\u001b[31m✖\u001b[39m \u001b[34mdplyr\u001b[39m::\u001b[32mcombine()\u001b[39m      masks \u001b[34mBiobase\u001b[39m::combine(), \u001b[34mBiocGenerics\u001b[39m::combine()\n",
      "\u001b[31m✖\u001b[39m \u001b[34mdplyr\u001b[39m::\u001b[32mcount()\u001b[39m        masks \u001b[34mmatrixStats\u001b[39m::count()\n",
      "\u001b[31m✖\u001b[39m \u001b[34mdplyr\u001b[39m::\u001b[32mdesc()\u001b[39m         masks \u001b[34mIRanges\u001b[39m::desc()\n",
      "\u001b[31m✖\u001b[39m \u001b[34mtidyr\u001b[39m::\u001b[32mexpand()\u001b[39m       masks \u001b[34mS4Vectors\u001b[39m::expand()\n",
      "\u001b[31m✖\u001b[39m \u001b[34mdplyr\u001b[39m::\u001b[32mfilter()\u001b[39m       masks \u001b[34mstats\u001b[39m::filter()\n",
      "\u001b[31m✖\u001b[39m \u001b[34mdplyr\u001b[39m::\u001b[32mfirst()\u001b[39m        masks \u001b[34mS4Vectors\u001b[39m::first()\n",
      "\u001b[31m✖\u001b[39m \u001b[34mdplyr\u001b[39m::\u001b[32mlag()\u001b[39m          masks \u001b[34mstats\u001b[39m::lag()\n",
      "\u001b[31m✖\u001b[39m \u001b[34mggplot2\u001b[39m::\u001b[32mPosition()\u001b[39m   masks \u001b[34mBiocGenerics\u001b[39m::Position(), \u001b[34mbase\u001b[39m::Position()\n",
      "\u001b[31m✖\u001b[39m \u001b[34mpurrr\u001b[39m::\u001b[32mreduce()\u001b[39m       masks \u001b[34mGenomicRanges\u001b[39m::reduce(), \u001b[34mIRanges\u001b[39m::reduce()\n",
      "\u001b[31m✖\u001b[39m \u001b[34mdplyr\u001b[39m::\u001b[32mrename()\u001b[39m       masks \u001b[34mS4Vectors\u001b[39m::rename()\n",
      "\u001b[31m✖\u001b[39m \u001b[34mlubridate\u001b[39m::\u001b[32msecond()\u001b[39m   masks \u001b[34mS4Vectors\u001b[39m::second()\n",
      "\u001b[31m✖\u001b[39m \u001b[34mlubridate\u001b[39m::\u001b[32msecond<-()\u001b[39m masks \u001b[34mS4Vectors\u001b[39m::second<-()\n",
      "\u001b[31m✖\u001b[39m \u001b[34mdplyr\u001b[39m::\u001b[32mslice()\u001b[39m        masks \u001b[34mIRanges\u001b[39m::slice()\n",
      "\u001b[36mℹ\u001b[39m Use the conflicted package (\u001b[3m\u001b[34m<http://conflicted.r-lib.org/>\u001b[39m\u001b[23m) to force all conflicts to become errors\n"
     ]
    }
   ],
   "source": [
    "library(imcRtools)\n",
    "library(tidyverse)"
   ]
  },
  {
   "cell_type": "code",
   "execution_count": 3,
   "id": "0691bd75-3693-47bb-b92c-4f23ec9c4eac",
   "metadata": {
    "execution": {
     "iopub.execute_input": "2024-11-14T00:20:12.606299Z",
     "iopub.status.busy": "2024-11-14T00:20:12.605372Z",
     "iopub.status.idle": "2024-11-14T00:20:12.614436Z",
     "shell.execute_reply": "2024-11-14T00:20:12.613170Z"
    },
    "vscode": {
     "languageId": "r"
    }
   },
   "outputs": [],
   "source": [
    "set_base_dir_method <- \"Relative\""
   ]
  },
  {
   "cell_type": "code",
   "execution_count": 4,
   "id": "05d7c438-92f5-4ca9-b024-9d4975a43bce",
   "metadata": {
    "execution": {
     "iopub.execute_input": "2024-11-14T00:20:12.616591Z",
     "iopub.status.busy": "2024-11-14T00:20:12.615820Z",
     "iopub.status.idle": "2024-11-14T00:20:12.666278Z",
     "shell.execute_reply": "2024-11-14T00:20:12.665378Z"
    },
    "vscode": {
     "languageId": "r"
    }
   },
   "outputs": [],
   "source": [
    "if (set_base_dir_method == \"Relative\") {\n",
    "    notebook_dir <- getwd()\n",
    "    data_dir <- fs::path_dir(notebook_dir)\n",
    "} else if (set_base_dir_method == \"Manual\") {\n",
    "    data_dir = \"/path/to/data/directory\"\n",
    "}"
   ]
  },
  {
   "cell_type": "code",
   "execution_count": 5,
   "id": "55245970-b709-4728-a7ab-63ac97182c31",
   "metadata": {
    "execution": {
     "iopub.execute_input": "2024-11-14T00:20:12.668391Z",
     "iopub.status.busy": "2024-11-14T00:20:12.667662Z",
     "iopub.status.idle": "2024-11-14T00:20:12.674942Z",
     "shell.execute_reply": "2024-11-14T00:20:12.674014Z"
    },
    "vscode": {
     "languageId": "r"
    }
   },
   "outputs": [],
   "source": [
    "# set the base directory\n",
    "base_dir = data_dir"
   ]
  },
  {
   "cell_type": "code",
   "execution_count": 6,
   "id": "edd3f68b-c9b5-4193-a054-68b6039dd13f",
   "metadata": {
    "execution": {
     "iopub.execute_input": "2024-11-14T00:20:12.676836Z",
     "iopub.status.busy": "2024-11-14T00:20:12.676213Z",
     "iopub.status.idle": "2024-11-14T00:20:12.690456Z",
     "shell.execute_reply": "2024-11-14T00:20:12.689509Z"
    },
    "vscode": {
     "languageId": "r"
    }
   },
   "outputs": [],
   "source": [
    "results_dir = fs::path_join(c(base_dir, \"analysis\"))\n",
    "results_graphs_dir = fs::path_join(c(base_dir, \"analysis\", \"graphs\"))\n",
    "results_objects_dir = fs::path_join(c(base_dir, \"analysis\", \"objects\"))\n",
    "cell_table_dir_qupath = fs::path_join(c(base_dir, \"segmentation\",\"cell_table_qupath\"))\n",
    "cell_table_dir_qc = fs::path_join(c(base_dir, \"segmentation\", \"cell_table\"))"
   ]
  },
  {
   "cell_type": "code",
   "execution_count": 7,
   "id": "e869eb45-c0ac-4db7-8c3d-62d64e570dfc",
   "metadata": {
    "execution": {
     "iopub.execute_input": "2024-11-14T00:20:12.692540Z",
     "iopub.status.busy": "2024-11-14T00:20:12.691736Z",
     "iopub.status.idle": "2024-11-14T00:20:12.707744Z",
     "shell.execute_reply": "2024-11-14T00:20:12.706160Z"
    },
    "vscode": {
     "languageId": "r"
    }
   },
   "outputs": [],
   "source": [
    "for (directory in c(results_dir, results_graphs_dir, results_objects_dir)) {\n",
    "    dir.create(directory,showWarnings = FALSE)\n",
    "}"
   ]
  },
  {
   "cell_type": "code",
   "execution_count": 8,
   "id": "499dbf79",
   "metadata": {
    "execution": {
     "iopub.execute_input": "2024-11-14T00:20:12.711594Z",
     "iopub.status.busy": "2024-11-14T00:20:12.710218Z",
     "iopub.status.idle": "2024-11-14T00:20:13.284279Z",
     "shell.execute_reply": "2024-11-14T00:20:13.283300Z"
    },
    "name": "Read in the data",
    "vscode": {
     "languageId": "r"
    }
   },
   "outputs": [],
   "source": [
    "spe_Deepcell_old <- readRDS(fs::path_join(c(results_objects_dir,\"spe_DeepCell_old.rds\")))\n",
    "spe_QuPath_ananya <- readRDS(fs::path_join(c(results_objects_dir,\"spe_QuPath_ananya_QuPath.rds\")))\n"
   ]
  },
  {
   "cell_type": "code",
   "execution_count": 9,
   "id": "dd02966c",
   "metadata": {
    "execution": {
     "iopub.execute_input": "2024-11-14T00:20:13.286038Z",
     "iopub.status.busy": "2024-11-14T00:20:13.285451Z",
     "iopub.status.idle": "2024-11-14T00:20:13.335184Z",
     "shell.execute_reply": "2024-11-14T00:20:13.334305Z"
    },
    "lines_to_next_cell": 0,
    "vscode": {
     "languageId": "r"
    }
   },
   "outputs": [
    {
     "data": {
      "text/html": [],
      "text/latex": [],
      "text/markdown": [],
      "text/plain": [
       "character(0)"
      ]
     },
     "metadata": {},
     "output_type": "display_data"
    },
    {
     "data": {
      "text/html": [],
      "text/latex": [],
      "text/markdown": [],
      "text/plain": [
       "character(0)"
      ]
     },
     "metadata": {},
     "output_type": "display_data"
    }
   ],
   "source": [
    "rownames(assays(spe_QuPath_ananya)[[\"exprs\"]])[!(rownames(assays(spe_QuPath_ananya)[[\"exprs\"]]) %in% rownames(assays(spe_Deepcell_old)[[\"exprs\"]]))]\n",
    "\n",
    "rownames(assays(spe_Deepcell_old)[[\"exprs\"]])[!(rownames(assays(spe_Deepcell_old\n",
    "                                                                )[[\"exprs\"]]) %in% rownames(assays(spe_QuPath_ananya)[[\"exprs\"]]))]\n",
    "\n"
   ]
  },
  {
   "cell_type": "code",
   "execution_count": 10,
   "id": "4d5bd590",
   "metadata": {
    "execution": {
     "iopub.execute_input": "2024-11-14T00:20:13.337181Z",
     "iopub.status.busy": "2024-11-14T00:20:13.336473Z",
     "iopub.status.idle": "2024-11-14T00:20:14.619097Z",
     "shell.execute_reply": "2024-11-14T00:20:14.618165Z"
    },
    "name": "Group all the data together",
    "vscode": {
     "languageId": "r"
    }
   },
   "outputs": [],
   "source": [
    "data_Deepcell_ananya <- as.data.frame(colData(spe_Deepcell_old))\n",
    "selected_data <- cbind(data_Deepcell_ananya, spatialCoords(spe_Deepcell_old))\n",
    "cur_exprs <- assay(spe_Deepcell_old, \"exprs\")\n",
    "cur_exprs <- as.data.frame(t(cur_exprs))\n",
    "data_Deepcell_ananya <- cbind(selected_data, cur_exprs)\n",
    "\n",
    "\n",
    "data_QuPath_ananya <- as.data.frame(colData(spe_QuPath_ananya))\n",
    "selected_data <- cbind(data_QuPath_ananya, spatialCoords(spe_QuPath_ananya))\n",
    "cur_exprs <- assay(spe_QuPath_ananya, \"exprs\")\n",
    "cur_exprs <- as.data.frame(t(cur_exprs))\n",
    "data_QuPath_ananya <- cbind(selected_data, cur_exprs)\n",
    "\n",
    "data_Deepcell_ananya$ObjectNumber <- as.character(data_Deepcell_ananya$ObjectNumber)\n",
    "\n",
    "\n",
    "combined_data <- bind_rows(data_Deepcell_ananya,data_QuPath_ananya, .id = \"source\") \n",
    "\n",
    "\n",
    "                                   \n",
    "combined_data$source <- recode(combined_data$source ,\"1\"=\"Deepcell\", \"2\"=\"QuPath\")"
   ]
  },
  {
   "cell_type": "code",
   "execution_count": 11,
   "id": "aa78ee3b",
   "metadata": {
    "execution": {
     "iopub.execute_input": "2024-11-14T00:20:14.620860Z",
     "iopub.status.busy": "2024-11-14T00:20:14.620306Z",
     "iopub.status.idle": "2024-11-14T00:20:18.148280Z",
     "shell.execute_reply": "2024-11-14T00:20:18.147366Z"
    },
    "lines_to_next_cell": 0,
    "name": "Save the combined data for further analysis in Python",
    "vscode": {
     "languageId": "r"
    }
   },
   "outputs": [],
   "source": [
    "saveRDS(combined_data,fs::path_join(c(results_objects_dir,\"combined_data.rds\")))\n",
    "write.csv(combined_data, fs::path_join(c(results_dir, \"combined_data_export.csv\")))"
   ]
  }
 ],
 "metadata": {
  "jupytext": {
   "cell_metadata_filter": "tags,name,-all",
   "main_language": "R",
   "notebook_metadata_filter": "-all"
  },
  "kernelspec": {
   "display_name": "R",
   "language": "R",
   "name": "ir"
  },
  "language_info": {
   "codemirror_mode": "r",
   "file_extension": ".r",
   "mimetype": "text/x-r-source",
   "name": "R",
   "pygments_lexer": "r",
   "version": "4.4.1"
  }
 },
 "nbformat": 4,
 "nbformat_minor": 5
}
